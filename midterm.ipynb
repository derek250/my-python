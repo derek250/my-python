{
 "cells": [
  {
   "cell_type": "code",
   "execution_count": 199,
   "metadata": {},
   "outputs": [],
   "source": [
    "%matplotlib inline\n",
    "import numpy as np\n",
    "import matplotlib.pyplot as plt\n",
    "import pandas as pd\n",
    "from ipywidgets import interact_manual\n",
    "import seaborn as sns"
   ]
  },
  {
   "cell_type": "markdown",
   "metadata": {},
   "source": [
    "### 藍點為玩家,黑點為電腦,輪流擲骰子,看誰先到終點\n",
    "### 起點為(0,0),終點為(9,9)"
   ]
  },
  {
   "cell_type": "code",
   "execution_count": 204,
   "metadata": {
    "scrolled": false
   },
   "outputs": [
    {
     "data": {
      "application/vnd.jupyter.widget-view+json": {
       "model_id": "d368e939c5c94a27a84ed92ec6c04949",
       "version_major": 2,
       "version_minor": 0
      },
      "text/plain": [
       "interactive(children=(Text(value='請擲骰子', description='z'), Button(description='Run Interact', style=ButtonStyl…"
      ]
     },
     "metadata": {},
     "output_type": "display_data"
    }
   ],
   "source": [
    "player=np.array([0,0])\n",
    "bot=np.array([0,0])\n",
    "\n",
    "\n",
    "\n",
    "def f(z):    \n",
    "    sns.set_style(\"whitegrid\")\n",
    "    plt.figure(figsize=(7,7))\n",
    "    plt.xlim(-0.5,9.5)\n",
    "    plt.ylim(-0.5,9.5)\n",
    "    plt.xticks(np.arange(0,10,1))\n",
    "    plt.yticks(np.arange(0,10,1))\n",
    "        \n",
    "    plt.scatter(0,0,c='r')\n",
    "    plt.scatter(9,9,c='r')\n",
    "    for i in range(10): \n",
    "        plt.plot(np.zeros(10)+i,'g')\n",
    "    x=np.linspace(0,9,100)    \n",
    "    for i in range(9):\n",
    "        plt.plot(x,1-x/9+i,'g--')\n",
    "\n",
    "    \n",
    "    \n",
    "    a=np.random.randint(1,7)\n",
    "    print(f'你擲到了{a}')\n",
    "    player[0]=player[0]+a\n",
    "    if player[0]>9:\n",
    "        player[0]=player[0]-10\n",
    "        player[1]=player[1]+1\n",
    "    plt.scatter(player[0],player[1],c='b')\n",
    "   \n",
    "\n",
    "    b=np.random.randint(1,7)\n",
    "    print(f'電腦擲到了{b}')\n",
    "    bot[0]=bot[0]+b\n",
    "    if bot[0]>9:\n",
    "        bot[0]=bot[0]-10\n",
    "        bot[1]=bot[1]+1\n",
    "    plt.scatter(bot[0],bot[1],c='k')\n",
    "    \n",
    "    if (bot[1]>9)|((bot[0]==9)&(bot[1]==9)):\n",
    "        print('電腦嬴了')\n",
    "    if (player[1]>9)|((player[0]==9)&(player[1]==9)):\n",
    "        print('你嬴了')\n",
    "    \n",
    "\n",
    "    \n",
    "interact_manual(f,z=\"請擲骰子\");\n",
    "    \n",
    "    "
   ]
  }
 ],
 "metadata": {
  "kernelspec": {
   "display_name": "Python 3",
   "language": "python",
   "name": "python3"
  },
  "language_info": {
   "codemirror_mode": {
    "name": "ipython",
    "version": 3
   },
   "file_extension": ".py",
   "mimetype": "text/x-python",
   "name": "python",
   "nbconvert_exporter": "python",
   "pygments_lexer": "ipython3",
   "version": "3.6.5"
  }
 },
 "nbformat": 4,
 "nbformat_minor": 2
}
