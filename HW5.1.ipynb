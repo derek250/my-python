{
 "cells": [
  {
   "cell_type": "markdown",
   "metadata": {},
   "source": [
    "### 全國電影票房統計 累計銷售金額與累計銷售票數之關係\n",
    "來源 https://data.gov.tw/dataset/94224"
   ]
  },
  {
   "cell_type": "code",
   "execution_count": 71,
   "metadata": {},
   "outputs": [],
   "source": [
    "%matplotlib inline\n",
    "\n",
    "import numpy as np\n",
    "import matplotlib.pyplot as plt\n",
    "import pandas as pd\n",
    "import matplotlib as mpl\n",
    "import locale\n",
    "from sklearn.linear_model import LinearRegression\n",
    "from sklearn.model_selection import train_test_split\n",
    "\n",
    "locale.setlocale(locale.LC_NUMERIC, '')\n",
    "mpl.font_manager._rebuild()\n",
    "mpl.rc('font', family='Noto Sans CJK TC')"
   ]
  },
  {
   "cell_type": "code",
   "execution_count": 72,
   "metadata": {
    "scrolled": false
   },
   "outputs": [
    {
     "data": {
      "text/html": [
       "<div>\n",
       "<style scoped>\n",
       "    .dataframe tbody tr th:only-of-type {\n",
       "        vertical-align: middle;\n",
       "    }\n",
       "\n",
       "    .dataframe tbody tr th {\n",
       "        vertical-align: top;\n",
       "    }\n",
       "\n",
       "    .dataframe thead th {\n",
       "        text-align: right;\n",
       "    }\n",
       "</style>\n",
       "<table border=\"1\" class=\"dataframe\">\n",
       "  <thead>\n",
       "    <tr style=\"text-align: right;\">\n",
       "      <th></th>\n",
       "      <th>序號</th>\n",
       "      <th>國別地區</th>\n",
       "      <th>中文片名</th>\n",
       "      <th>上映日期</th>\n",
       "      <th>申請人</th>\n",
       "      <th>出品</th>\n",
       "      <th>上映日數</th>\n",
       "      <th>上映院數</th>\n",
       "      <th>銷售票數</th>\n",
       "      <th>周票數變動率</th>\n",
       "      <th>銷售金額</th>\n",
       "      <th>累計銷售票數</th>\n",
       "      <th>累計銷售金額</th>\n",
       "    </tr>\n",
       "  </thead>\n",
       "  <tbody>\n",
       "    <tr>\n",
       "      <th>0</th>\n",
       "      <td>1</td>\n",
       "      <td>日本</td>\n",
       "      <td>Fate/stay night：II.迷途之蝶</td>\n",
       "      <td>2019/03/09</td>\n",
       "      <td>曼迪傳播有限公司</td>\n",
       "      <td>Aniplex Inc.</td>\n",
       "      <td>5</td>\n",
       "      <td>17</td>\n",
       "      <td>26,822</td>\n",
       "      <td>9,023.13%</td>\n",
       "      <td>6700357.0</td>\n",
       "      <td>27116.0</td>\n",
       "      <td>6770917.0</td>\n",
       "    </tr>\n",
       "    <tr>\n",
       "      <th>1</th>\n",
       "      <td>2</td>\n",
       "      <td>泰國</td>\n",
       "      <td>限時好友</td>\n",
       "      <td>2019/03/08</td>\n",
       "      <td>威視股份有限公司</td>\n",
       "      <td>GDH 599 COMPANY LIMITED</td>\n",
       "      <td>7</td>\n",
       "      <td>60</td>\n",
       "      <td>20,130</td>\n",
       "      <td>19.49%</td>\n",
       "      <td>4619406.0</td>\n",
       "      <td>43392.0</td>\n",
       "      <td>10020838.0</td>\n",
       "    </tr>\n",
       "    <tr>\n",
       "      <th>2</th>\n",
       "      <td>3</td>\n",
       "      <td>香港</td>\n",
       "      <td>滾滾紅塵(數位修復版)</td>\n",
       "      <td>2019/03/08</td>\n",
       "      <td>能率影業股份有限公司</td>\n",
       "      <td>湯臣(香港)電影有限公司</td>\n",
       "      <td>7</td>\n",
       "      <td>24</td>\n",
       "      <td>5,541</td>\n",
       "      <td>1.76%</td>\n",
       "      <td>1209297.0</td>\n",
       "      <td>10986.0</td>\n",
       "      <td>2432066.0</td>\n",
       "    </tr>\n",
       "    <tr>\n",
       "      <th>3</th>\n",
       "      <td>4</td>\n",
       "      <td>中華民國</td>\n",
       "      <td>乳‧房</td>\n",
       "      <td>2019/03/08</td>\n",
       "      <td>可樂藝術文創股份有限公司</td>\n",
       "      <td>吳美良##謝志文##廖琬玲##廖千秀</td>\n",
       "      <td>7</td>\n",
       "      <td>22</td>\n",
       "      <td>2,042</td>\n",
       "      <td>-23.83%</td>\n",
       "      <td>452964.0</td>\n",
       "      <td>4835.0</td>\n",
       "      <td>1076718.0</td>\n",
       "    </tr>\n",
       "    <tr>\n",
       "      <th>4</th>\n",
       "      <td>5</td>\n",
       "      <td>美國</td>\n",
       "      <td>RBG：不恐龍大法官</td>\n",
       "      <td>2019/03/08</td>\n",
       "      <td>亮點國際影業有限公司</td>\n",
       "      <td>Magnolia Pictures LLC</td>\n",
       "      <td>7</td>\n",
       "      <td>12</td>\n",
       "      <td>1,805</td>\n",
       "      <td>25.52%</td>\n",
       "      <td>385355.0</td>\n",
       "      <td>3310.0</td>\n",
       "      <td>707988.0</td>\n",
       "    </tr>\n",
       "  </tbody>\n",
       "</table>\n",
       "</div>"
      ],
      "text/plain": [
       "   序號  國別地區                     中文片名        上映日期           申請人  \\\n",
       "0   1    日本  Fate/stay night：II.迷途之蝶  2019/03/09      曼迪傳播有限公司   \n",
       "1   2    泰國                     限時好友  2019/03/08      威視股份有限公司   \n",
       "2   3    香港              滾滾紅塵(數位修復版)  2019/03/08    能率影業股份有限公司   \n",
       "3   4  中華民國                      乳‧房  2019/03/08  可樂藝術文創股份有限公司   \n",
       "4   5    美國               RBG：不恐龍大法官  2019/03/08    亮點國際影業有限公司   \n",
       "\n",
       "                        出品  上映日數  上映院數    銷售票數     周票數變動率       銷售金額   累計銷售票數  \\\n",
       "0             Aniplex Inc.     5    17  26,822  9,023.13%  6700357.0  27116.0   \n",
       "1  GDH 599 COMPANY LIMITED     7    60  20,130     19.49%  4619406.0  43392.0   \n",
       "2             湯臣(香港)電影有限公司     7    24   5,541      1.76%  1209297.0  10986.0   \n",
       "3       吳美良##謝志文##廖琬玲##廖千秀     7    22   2,042    -23.83%   452964.0   4835.0   \n",
       "4    Magnolia Pictures LLC     7    12   1,805     25.52%   385355.0   3310.0   \n",
       "\n",
       "       累計銷售金額  \n",
       "0   6770917.0  \n",
       "1  10020838.0  \n",
       "2   2432066.0  \n",
       "3   1076718.0  \n",
       "4    707988.0  "
      ]
     },
     "execution_count": 72,
     "metadata": {},
     "output_type": "execute_result"
    }
   ],
   "source": [
    "df=pd.read_csv('https://opendata.culture.tw/upload/dataSource/2019-03-21/6eebfdc2-bb2f-4c8c-bd01-90bfbe65c42c/36b480389779619a577a8cb1ac873b94.csv')\n",
    "df['銷售金額']=df['銷售金額'].apply(locale.atof)\n",
    "df['累計銷售票數']=df['累計銷售票數'].apply(locale.atof)\n",
    "df['累計銷售金額']=df['累計銷售金額'].apply(locale.atof)\n",
    "df.head()"
   ]
  },
  {
   "cell_type": "code",
   "execution_count": 73,
   "metadata": {},
   "outputs": [],
   "source": [
    "Y=df.累計銷售金額\n",
    "X=df.累計銷售票數"
   ]
  },
  {
   "cell_type": "code",
   "execution_count": 74,
   "metadata": {
    "scrolled": true
   },
   "outputs": [
    {
     "data": {
      "text/plain": [
       "0    27116.0\n",
       "1    43392.0\n",
       "2    10986.0\n",
       "3     4835.0\n",
       "4     3310.0\n",
       "Name: 累計銷售票數, dtype: float64"
      ]
     },
     "execution_count": 74,
     "metadata": {},
     "output_type": "execute_result"
    }
   ],
   "source": [
    "X.head()"
   ]
  },
  {
   "cell_type": "code",
   "execution_count": 75,
   "metadata": {
    "scrolled": true
   },
   "outputs": [
    {
     "data": {
      "text/plain": [
       "0     6770917.0\n",
       "1    10020838.0\n",
       "2     2432066.0\n",
       "3     1076718.0\n",
       "4      707988.0\n",
       "Name: 累計銷售金額, dtype: float64"
      ]
     },
     "execution_count": 75,
     "metadata": {},
     "output_type": "execute_result"
    }
   ],
   "source": [
    "Y.head()"
   ]
  },
  {
   "cell_type": "code",
   "execution_count": 76,
   "metadata": {
    "scrolled": true
   },
   "outputs": [
    {
     "data": {
      "text/plain": [
       "<matplotlib.collections.PathCollection at 0x342caa2d68>"
      ]
     },
     "execution_count": 76,
     "metadata": {},
     "output_type": "execute_result"
    },
    {
     "data": {
      "image/png": "[encoded data removed]",
      "text/plain": [
       "<Figure size 432x288 with 1 Axes>"
      ]
     },
     "metadata": {},
     "output_type": "display_data"
    }
   ],
   "source": [
    "plt.scatter(X,Y)"
   ]
  },
  {
   "cell_type": "code",
   "execution_count": 77,
   "metadata": {},
   "outputs": [],
   "source": [
    "regr = LinearRegression()"
   ]
  },
  {
   "cell_type": "code",
   "execution_count": 78,
   "metadata": {},
   "outputs": [],
   "source": [
    "x=np.array(X)\n",
    "x = x.reshape(len(x), 1)"
   ]
  },
  {
   "cell_type": "code",
   "execution_count": 79,
   "metadata": {},
   "outputs": [],
   "source": [
    "x_train, x_test, y_train, y_test = train_test_split(x, Y, test_size=0.3, random_state = 666)"
   ]
  },
  {
   "cell_type": "code",
   "execution_count": 80,
   "metadata": {
    "scrolled": false
   },
   "outputs": [
    {
     "data": {
      "text/plain": [
       "<matplotlib.collections.PathCollection at 0x342aadb978>"
      ]
     },
     "execution_count": 80,
     "metadata": {},
     "output_type": "execute_result"
    },
    {
     "data": {
      "image/png": "[encoded data removed]",
      "text/plain": [
       "<Figure size 432x288 with 1 Axes>"
      ]
     },
     "metadata": {},
     "output_type": "display_data"
    }
   ],
   "source": [
    "plt.scatter(x_train, y_train)"
   ]
  },
  {
   "cell_type": "code",
   "execution_count": 81,
   "metadata": {},
   "outputs": [
    {
     "data": {
      "text/plain": [
       "<matplotlib.collections.PathCollection at 0x342cb40e10>"
      ]
     },
     "execution_count": 81,
     "metadata": {},
     "output_type": "execute_result"
    },
    {
     "data": {
      "image/png": "[encoded data removed]",
      "text/plain": [
       "<Figure size 432x288 with 1 Axes>"
      ]
     },
     "metadata": {},
     "output_type": "display_data"
    }
   ],
   "source": [
    "plt.scatter(x_test, y_test) "
   ]
  },
  {
   "cell_type": "code",
   "execution_count": 82,
   "metadata": {
    "scrolled": false
   },
   "outputs": [
    {
     "data": {
      "text/plain": [
       "LinearRegression(copy_X=True, fit_intercept=True, n_jobs=1, normalize=False)"
      ]
     },
     "execution_count": 82,
     "metadata": {},
     "output_type": "execute_result"
    }
   ],
   "source": [
    "regr.fit(x_train, y_train)"
   ]
  },
  {
   "cell_type": "code",
   "execution_count": 83,
   "metadata": {},
   "outputs": [],
   "source": [
    "Y_pred = regr.predict(x_test)"
   ]
  },
  {
   "cell_type": "code",
   "execution_count": 84,
   "metadata": {},
   "outputs": [
    {
     "data": {
      "text/plain": [
       "Text(0,0.5,'累計銷售金額')"
      ]
     },
     "execution_count": 84,
     "metadata": {},
     "output_type": "execute_result"
    },
    {
     "data": {
      "image/png": "[encoded data removed]",
      "text/plain": [
       "<Figure size 432x288 with 1 Axes>"
      ]
     },
     "metadata": {},
     "output_type": "display_data"
    }
   ],
   "source": [
    "plt.scatter(x_test, y_test)\n",
    "plt.plot(x_test, Y_pred, 'r')\n",
    "plt.title('累計銷售金額與累計銷售票數之關係')\n",
    "plt.xlabel('累計銷售票數')\n",
    "plt.ylabel('累計銷售金額')"
   ]
  }
 ],
 "metadata": {
  "kernelspec": {
   "display_name": "Python 3",
   "language": "python",
   "name": "python3"
  },
  "language_info": {
   "codemirror_mode": {
    "name": "ipython",
    "version": 3
   },
   "file_extension": ".py",
   "mimetype": "text/x-python",
   "name": "python",
   "nbconvert_exporter": "python",
   "pygments_lexer": "ipython3",
   "version": "3.6.5"
  }
 },
 "nbformat": 4,
 "nbformat_minor": 2
}
