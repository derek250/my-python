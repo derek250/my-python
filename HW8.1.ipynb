{
 "cells": [
  {
   "cell_type": "markdown",
   "metadata": {},
   "source": [
    "### 使用Functional API打造神經網路，加一些分岔的部分在模型結構中"
   ]
  },
  {
   "cell_type": "code",
   "execution_count": 2,
   "metadata": {
    "scrolled": false
   },
   "outputs": [
    {
     "name": "stdout",
     "output_type": "stream",
     "text": [
      "env: KERAS_BACKEND=tensorflow\n"
     ]
    }
   ],
   "source": [
    "%env KERAS_BACKEND=tensorflow\n",
    "%matplotlib inline\n",
    "\n",
    "import numpy as np\n",
    "import matplotlib.pyplot as plt\n",
    "from ipywidgets import interact_manual\n",
    "from ipywidgets import interact, IntSlider, Button"
   ]
  },
  {
   "cell_type": "code",
   "execution_count": 3,
   "metadata": {},
   "outputs": [
    {
     "name": "stderr",
     "output_type": "stream",
     "text": [
      "d:\\Anaconda3\\lib\\site-packages\\h5py\\__init__.py:36: FutureWarning: Conversion of the second argument of issubdtype from `float` to `np.floating` is deprecated. In future, it will be treated as `np.float64 == np.dtype(float).type`.\n",
      "  from ._conv import register_converters as _register_converters\n",
      "Using TensorFlow backend.\n"
     ]
    }
   ],
   "source": [
    "# Keras functions\n",
    "from keras.models import Sequential\n",
    "from keras.layers import Dense, Activation\n",
    "from keras.optimizers import SGD,Adam\n",
    "\n",
    "# Keras dataset\n",
    "from keras.datasets import mnist\n",
    "\n",
    "# Keras utils\n",
    "from keras.utils import np_utils\n",
    "\n",
    "\n",
    "from keras.models import Model\n",
    "from keras.layers import Input\n",
    "from keras.layers import concatenate, add"
   ]
  },
  {
   "cell_type": "markdown",
   "metadata": {},
   "source": [
    "讀入MNIST的資料，然後把資料變成我們要的樣子"
   ]
  },
  {
   "cell_type": "code",
   "execution_count": 4,
   "metadata": {},
   "outputs": [],
   "source": [
    "(x_train0, y_train0), (x_test0, y_test0) = mnist.load_data()"
   ]
  },
  {
   "cell_type": "code",
   "execution_count": 5,
   "metadata": {},
   "outputs": [],
   "source": [
    "x_train = x_train0.reshape(60000, 28*28)\n",
    "x_test = x_test0.reshape(10000, 28*28)"
   ]
  },
  {
   "cell_type": "code",
   "execution_count": 6,
   "metadata": {},
   "outputs": [],
   "source": [
    "y_train= np_utils.to_categorical(y_train0, 10)\n",
    "y_test= np_utils.to_categorical(y_test0, 10)"
   ]
  },
  {
   "cell_type": "markdown",
   "metadata": {},
   "source": [
    "用Functional API建立神經網路"
   ]
  },
  {
   "cell_type": "code",
   "execution_count": 7,
   "metadata": {},
   "outputs": [],
   "source": [
    "x = Input(shape=(784,))\n",
    "f_1_1 = Dense(200, activation='sigmoid')\n",
    "f_1_2 = Dense(200, activation='relu')\n",
    "f_1_3 = Dense(200, activation='sigmoid')\n",
    "\n",
    "f_2_1 = Dense(100, activation='sigmoid')\n",
    "f_2_2 = Dense(100, activation='sigmoid')\n",
    "f_2_3 = Dense(100, activation='sigmoid')\n",
    "f_2_4 = Dense(100, activation='sigmoid')\n",
    "\n",
    "\n",
    "f_3_1 = Dense(50, activation='sigmoid')\n",
    "f_3_2 = Dense(50, activation='sigmoid')\n",
    "f_3_3 = Dense(50, activation='sigmoid')\n",
    "\n",
    "f_4 = Dense(10, activation='softmax')"
   ]
  },
  {
   "cell_type": "code",
   "execution_count": 8,
   "metadata": {},
   "outputs": [
    {
     "name": "stdout",
     "output_type": "stream",
     "text": [
      "WARNING:tensorflow:From d:\\Anaconda3\\lib\\site-packages\\tensorflow\\python\\framework\\op_def_library.py:263: colocate_with (from tensorflow.python.framework.ops) is deprecated and will be removed in a future version.\n",
      "Instructions for updating:\n",
      "Colocations handled automatically by placer.\n"
     ]
    }
   ],
   "source": [
    "h_1_1 = f_1_1(x)\n",
    "h_1_2 = f_1_2(x)\n",
    "h_1_3 = f_1_3(x)\n",
    "h_1_4 = concatenate([h_1_1,h_1_2])\n",
    "\n",
    "\n",
    "h_2_1 = f_2_1(h_1_4)\n",
    "h_2_2 = f_2_2(h_1_4)\n",
    "h_2_3 = f_2_3(h_1_3)\n",
    "h_2_4 = f_2_4(h_1_3)\n",
    "h_2_5 = concatenate([h_2_1,h_2_2,h_2_3])\n",
    "h_2_6 = concatenate([h_2_1,h_2_4])\n",
    "\n",
    "h_3_1 = f_3_1(h_2_5)\n",
    "h_3_2 = f_3_2(h_2_5)\n",
    "h_3_3 = f_3_3(h_2_6)\n",
    "h_3 = concatenate([h_3_1,h_3_2,h_3_3])\n",
    "\n",
    "y = f_4(h_3)"
   ]
  },
  {
   "cell_type": "code",
   "execution_count": 9,
   "metadata": {},
   "outputs": [
    {
     "name": "stdout",
     "output_type": "stream",
     "text": [
      "__________________________________________________________________________________________________\n",
      "Layer (type)                    Output Shape         Param #     Connected to                     \n",
      "==================================================================================================\n",
      "input_1 (InputLayer)            (None, 784)          0                                            \n",
      "__________________________________________________________________________________________________\n",
      "dense_1 (Dense)                 (None, 200)          157000      input_1[0][0]                    \n",
      "__________________________________________________________________________________________________\n",
      "dense_2 (Dense)                 (None, 200)          157000      input_1[0][0]                    \n",
      "__________________________________________________________________________________________________\n",
      "concatenate_1 (Concatenate)     (None, 400)          0           dense_1[0][0]                    \n",
      "                                                                 dense_2[0][0]                    \n",
      "__________________________________________________________________________________________________\n",
      "dense_3 (Dense)                 (None, 200)          157000      input_1[0][0]                    \n",
      "__________________________________________________________________________________________________\n",
      "dense_4 (Dense)                 (None, 100)          40100       concatenate_1[0][0]              \n",
      "__________________________________________________________________________________________________\n",
      "dense_5 (Dense)                 (None, 100)          40100       concatenate_1[0][0]              \n",
      "__________________________________________________________________________________________________\n",
      "dense_6 (Dense)                 (None, 100)          20100       dense_3[0][0]                    \n",
      "__________________________________________________________________________________________________\n",
      "dense_7 (Dense)                 (None, 100)          20100       dense_3[0][0]                    \n",
      "__________________________________________________________________________________________________\n",
      "concatenate_2 (Concatenate)     (None, 300)          0           dense_4[0][0]                    \n",
      "                                                                 dense_5[0][0]                    \n",
      "                                                                 dense_6[0][0]                    \n",
      "__________________________________________________________________________________________________\n",
      "concatenate_3 (Concatenate)     (None, 200)          0           dense_4[0][0]                    \n",
      "                                                                 dense_7[0][0]                    \n",
      "__________________________________________________________________________________________________\n",
      "dense_8 (Dense)                 (None, 50)           15050       concatenate_2[0][0]              \n",
      "__________________________________________________________________________________________________\n",
      "dense_9 (Dense)                 (None, 50)           15050       concatenate_2[0][0]              \n",
      "__________________________________________________________________________________________________\n",
      "dense_10 (Dense)                (None, 50)           10050       concatenate_3[0][0]              \n",
      "__________________________________________________________________________________________________\n",
      "concatenate_4 (Concatenate)     (None, 150)          0           dense_8[0][0]                    \n",
      "                                                                 dense_9[0][0]                    \n",
      "                                                                 dense_10[0][0]                   \n",
      "__________________________________________________________________________________________________\n",
      "dense_11 (Dense)                (None, 10)           1510        concatenate_4[0][0]              \n",
      "==================================================================================================\n",
      "Total params: 633,060\n",
      "Trainable params: 633,060\n",
      "Non-trainable params: 0\n",
      "__________________________________________________________________________________________________\n"
     ]
    }
   ],
   "source": [
    "model=Model(x,y)\n",
    "model.summary()"
   ]
  },
  {
   "cell_type": "code",
   "execution_count": 10,
   "metadata": {},
   "outputs": [],
   "source": [
    "model.compile(loss='mse', optimizer=SGD(lr=0.087), metrics=['accuracy'])"
   ]
  },
  {
   "cell_type": "markdown",
   "metadata": {},
   "source": [
    "訓練並看一下成果"
   ]
  },
  {
   "cell_type": "code",
   "execution_count": 13,
   "metadata": {
    "scrolled": false
   },
   "outputs": [
    {
     "name": "stdout",
     "output_type": "stream",
     "text": [
      "Epoch 1/20\n",
      "60000/60000 [==============================] - 7s 123us/step - loss: 0.0360 - acc: 0.8188\n",
      "Epoch 2/20\n",
      "60000/60000 [==============================] - 8s 131us/step - loss: 0.0288 - acc: 0.8689 1s - \n",
      "Epoch 3/20\n",
      "60000/60000 [==============================] - 8s 133us/step - loss: 0.0235 - acc: 0.8916\n",
      "Epoch 4/20\n",
      "60000/60000 [==============================] - 8s 136us/step - loss: 0.0199 - acc: 0.9009\n",
      "Epoch 5/20\n",
      "60000/60000 [==============================] - 8s 127us/step - loss: 0.0174 - acc: 0.9085\n",
      "Epoch 6/20\n",
      "60000/60000 [==============================] - 8s 134us/step - loss: 0.0156 - acc: 0.9149\n",
      "Epoch 7/20\n",
      "60000/60000 [==============================] - 9s 149us/step - loss: 0.0143 - acc: 0.9198 0s - loss: 0.0143 - acc: 0.91\n",
      "Epoch 8/20\n",
      "60000/60000 [==============================] - 8s 142us/step - loss: 0.0133 - acc: 0.9247\n",
      "Epoch 9/20\n",
      "60000/60000 [==============================] - 8s 138us/step - loss: 0.0124 - acc: 0.9286\n",
      "Epoch 10/20\n",
      "60000/60000 [==============================] - 8s 134us/step - loss: 0.0117 - acc: 0.9323\n",
      "Epoch 11/20\n",
      "60000/60000 [==============================] - 8s 142us/step - loss: 0.0110 - acc: 0.9360\n",
      "Epoch 12/20\n",
      "60000/60000 [==============================] - 9s 148us/step - loss: 0.0105 - acc: 0.9381\n",
      "Epoch 13/20\n",
      "60000/60000 [==============================] - 9s 143us/step - loss: 0.0100 - acc: 0.9412\n",
      "Epoch 14/20\n",
      "60000/60000 [==============================] - 9s 145us/step - loss: 0.0096 - acc: 0.9435\n",
      "Epoch 15/20\n",
      "60000/60000 [==============================] - 9s 146us/step - loss: 0.0092 - acc: 0.9459\n",
      "Epoch 16/20\n",
      "60000/60000 [==============================] - 8s 141us/step - loss: 0.0088 - acc: 0.9482\n",
      "Epoch 17/20\n",
      "60000/60000 [==============================] - 9s 142us/step - loss: 0.0085 - acc: 0.9505\n",
      "Epoch 18/20\n",
      "60000/60000 [==============================] - 9s 144us/step - loss: 0.0082 - acc: 0.9519\n",
      "Epoch 19/20\n",
      "60000/60000 [==============================] - 9s 143us/step - loss: 0.0079 - acc: 0.9539\n",
      "Epoch 20/20\n",
      "60000/60000 [==============================] - 8s 140us/step - loss: 0.0077 - acc: 0.9558\n"
     ]
    },
    {
     "data": {
      "text/plain": [
       "<keras.callbacks.History at 0x2d736ed7f0>"
      ]
     },
     "execution_count": 13,
     "metadata": {},
     "output_type": "execute_result"
    }
   ],
   "source": [
    "model.fit(x_train,y_train,batch_size=100, epochs=20)"
   ]
  },
  {
   "cell_type": "code",
   "execution_count": 14,
   "metadata": {},
   "outputs": [
    {
     "name": "stdout",
     "output_type": "stream",
     "text": [
      "10000/10000 [==============================] - 0s 32us/step\n",
      "Loss: 0.008623\n",
      "準確率: 94.569999\n"
     ]
    }
   ],
   "source": [
    "score = model.evaluate(x_test, y_test, batch_size=10000)\n",
    "print(\"Loss: %f\" %score[0])\n",
    "print(\"準確率: %f\" %(score[1]*100))"
   ]
  }
 ],
 "metadata": {
  "kernelspec": {
   "display_name": "Python 3",
   "language": "python",
   "name": "python3"
  },
  "language_info": {
   "codemirror_mode": {
    "name": "ipython",
    "version": 3
   },
   "file_extension": ".py",
   "mimetype": "text/x-python",
   "name": "python",
   "nbconvert_exporter": "python",
   "pygments_lexer": "ipython3",
   "version": "3.6.5"
  }
 },
 "nbformat": 4,
 "nbformat_minor": 2
}
