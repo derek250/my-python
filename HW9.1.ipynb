{
 "cells": [
  {
   "cell_type": "markdown",
   "metadata": {
    "colab_type": "text",
    "id": "EksxINlPnuRt"
   },
   "source": [
    "### 使用CNN來做圖片辨識"
   ]
  },
  {
   "cell_type": "code",
   "execution_count": 2,
   "metadata": {
    "colab": {
     "base_uri": "https://localhost:8080/",
     "height": 34
    },
    "colab_type": "code",
    "executionInfo": {
     "elapsed": 726,
     "status": "ok",
     "timestamp": 1557422626375,
     "user": {
      "displayName": "weng keong chan",
      "photoUrl": "",
      "userId": "08429624832291330013"
     },
     "user_tz": -480
    },
    "id": "2ohRo9XhnuRv",
    "outputId": "0ea6f755-bdc0-4a8d-a04b-8adac17e0f9a"
   },
   "outputs": [
    {
     "name": "stdout",
     "output_type": "stream",
     "text": [
      "env: KERAS_BACKEND=tensorflow\n"
     ]
    }
   ],
   "source": [
    "%env KERAS_BACKEND=tensorflow\n",
    "%matplotlib inline\n",
    "\n",
    "import numpy as np\n",
    "import matplotlib.pyplot as plt\n",
    "from ipywidgets import interact_manual"
   ]
  },
  {
   "cell_type": "code",
   "execution_count": 2,
   "metadata": {
    "colab": {
     "base_uri": "https://localhost:8080/",
     "height": 34
    },
    "colab_type": "code",
    "executionInfo": {
     "elapsed": 2760,
     "status": "ok",
     "timestamp": 1557422628413,
     "user": {
      "displayName": "weng keong chan",
      "photoUrl": "",
      "userId": "08429624832291330013"
     },
     "user_tz": -480
    },
    "id": "WjnlOlIdnuR1",
    "outputId": "50f92f53-e9b1-4483-cf23-e052d031c25b"
   },
   "outputs": [
    {
     "name": "stderr",
     "output_type": "stream",
     "text": [
      "Using TensorFlow backend.\n"
     ]
    }
   ],
   "source": [
    "from keras.datasets import mnist\n",
    "from keras.utils import np_utils\n",
    "\n",
    "from keras.models import Sequential\n",
    "from keras.layers import Dense, Activation, Flatten\n",
    "from keras.layers import Conv2D, MaxPool2D\n",
    "from keras.optimizers import SGD"
   ]
  },
  {
   "cell_type": "code",
   "execution_count": 0,
   "metadata": {
    "colab": {},
    "colab_type": "code",
    "id": "2bzngaxxnuR4"
   },
   "outputs": [],
   "source": [
    "(x_train, y_train), (x_test, y_test) = mnist.load_data()"
   ]
  },
  {
   "cell_type": "markdown",
   "metadata": {
    "colab_type": "text",
    "id": "1YvrscRpnuR6"
   },
   "source": [
    "CNN的輸入是(28, 28, 1)，不是像之前一樣拉平"
   ]
  },
  {
   "cell_type": "code",
   "execution_count": 0,
   "metadata": {
    "colab": {},
    "colab_type": "code",
    "id": "0IQ6bW9knuR7"
   },
   "outputs": [],
   "source": [
    "x_train = x_train.reshape(60000, 28, 28, 1)\n",
    "x_test = x_test.reshape(10000, 28, 28, 1)"
   ]
  },
  {
   "cell_type": "code",
   "execution_count": 0,
   "metadata": {
    "colab": {},
    "colab_type": "code",
    "id": "Wcm37OWhnuR9"
   },
   "outputs": [],
   "source": [
    "x_train = x_train/255\n",
    "x_test = x_test/255"
   ]
  },
  {
   "cell_type": "code",
   "execution_count": 0,
   "metadata": {
    "colab": {},
    "colab_type": "code",
    "id": "PvFnV84nnuSA"
   },
   "outputs": [],
   "source": [
    "y_train = np_utils.to_categorical(y_train, 10)\n",
    "y_test = np_utils.to_categorical(y_test, 10)"
   ]
  },
  {
   "cell_type": "markdown",
   "metadata": {
    "colab_type": "text",
    "id": "lxJGmnuGnuSC"
   },
   "source": [
    "建構CNN神經網路"
   ]
  },
  {
   "cell_type": "code",
   "execution_count": 0,
   "metadata": {
    "colab": {},
    "colab_type": "code",
    "id": "QBsVYSj-nuSD"
   },
   "outputs": [],
   "source": [
    "model = Sequential()\n",
    "\n",
    "model.add(Conv2D(8, (5, 5), padding='same', input_shape=(28, 28, 1)))\n",
    "model.add(Activation('relu'))\n",
    "model.add(MaxPool2D(pool_size=(2,2)))\n",
    "#第一次Convolution跟Max-Pooling\n",
    "\n",
    "model.add(Conv2D(16, (5, 5), padding='same', input_shape=(28, 28, 1)))\n",
    "model.add(Activation('relu'))\n",
    "model.add(MaxPool2D(pool_size=(2,2)))\n",
    "#第二次Convolution跟Max-Pooling\n",
    "\n",
    "model.add(Conv2D(32, (5, 5), padding='same', input_shape=(28, 28, 1)))\n",
    "model.add(Activation('relu'))\n",
    "model.add(MaxPool2D(pool_size=(2,2)))\n",
    "#第三次Convolution跟Max-Pooling\n",
    "\n",
    "model.add(Flatten())  #用來拉平用的，拉平後才能送入一般的神經網路\n",
    "model.add(Dense(16))\n",
    "model.add(Activation('relu'))\n",
    "#一般的神經網路\n",
    "\n",
    "model.add(Dense(10))\n",
    "model.add(Activation('softmax'))\n",
    "#輸出層\n",
    "\n",
    "model.compile(loss='mse', optimizer=SGD(lr=0.05), metrics=['accuracy'])"
   ]
  },
  {
   "cell_type": "code",
   "execution_count": 20,
   "metadata": {
    "colab": {
     "base_uri": "https://localhost:8080/",
     "height": 612
    },
    "colab_type": "code",
    "executionInfo": {
     "elapsed": 766,
     "status": "ok",
     "timestamp": 1557424902896,
     "user": {
      "displayName": "weng keong chan",
      "photoUrl": "",
      "userId": "08429624832291330013"
     },
     "user_tz": -480
    },
    "id": "NpdqAb9knuSG",
    "outputId": "68aaed03-0fae-4604-e407-02b65e566f76"
   },
   "outputs": [
    {
     "name": "stdout",
     "output_type": "stream",
     "text": [
      "_________________________________________________________________\n",
      "Layer (type)                 Output Shape              Param #   \n",
      "=================================================================\n",
      "conv2d_10 (Conv2D)           (None, 28, 28, 8)         208       \n",
      "_________________________________________________________________\n",
      "activation_16 (Activation)   (None, 28, 28, 8)         0         \n",
      "_________________________________________________________________\n",
      "max_pooling2d_10 (MaxPooling (None, 14, 14, 8)         0         \n",
      "_________________________________________________________________\n",
      "conv2d_11 (Conv2D)           (None, 14, 14, 16)        3216      \n",
      "_________________________________________________________________\n",
      "activation_17 (Activation)   (None, 14, 14, 16)        0         \n",
      "_________________________________________________________________\n",
      "max_pooling2d_11 (MaxPooling (None, 7, 7, 16)          0         \n",
      "_________________________________________________________________\n",
      "conv2d_12 (Conv2D)           (None, 7, 7, 32)          12832     \n",
      "_________________________________________________________________\n",
      "activation_18 (Activation)   (None, 7, 7, 32)          0         \n",
      "_________________________________________________________________\n",
      "max_pooling2d_12 (MaxPooling (None, 3, 3, 32)          0         \n",
      "_________________________________________________________________\n",
      "flatten_4 (Flatten)          (None, 288)               0         \n",
      "_________________________________________________________________\n",
      "dense_7 (Dense)              (None, 16)                4624      \n",
      "_________________________________________________________________\n",
      "activation_19 (Activation)   (None, 16)                0         \n",
      "_________________________________________________________________\n",
      "dense_8 (Dense)              (None, 10)                170       \n",
      "_________________________________________________________________\n",
      "activation_20 (Activation)   (None, 10)                0         \n",
      "=================================================================\n",
      "Total params: 21,050\n",
      "Trainable params: 21,050\n",
      "Non-trainable params: 0\n",
      "_________________________________________________________________\n"
     ]
    }
   ],
   "source": [
    "model.summary()"
   ]
  },
  {
   "cell_type": "markdown",
   "metadata": {
    "colab_type": "text",
    "id": "Rt8Ah8banuSJ"
   },
   "source": [
    "訓練並看一下成果"
   ]
  },
  {
   "cell_type": "code",
   "execution_count": 21,
   "metadata": {
    "colab": {
     "base_uri": "https://localhost:8080/",
     "height": 714
    },
    "colab_type": "code",
    "executionInfo": {
     "elapsed": 1852913,
     "status": "ok",
     "timestamp": 1557426757691,
     "user": {
      "displayName": "weng keong chan",
      "photoUrl": "",
      "userId": "08429624832291330013"
     },
     "user_tz": -480
    },
    "id": "zfPAf8M-nuSK",
    "outputId": "26ad7fee-8392-4247-d7b4-b71b9582542a"
   },
   "outputs": [
    {
     "name": "stdout",
     "output_type": "stream",
     "text": [
      "Epoch 1/20\n",
      "60000/60000 [==============================] - 93s 2ms/step - loss: 0.0897 - acc: 0.2017\n",
      "Epoch 2/20\n",
      "60000/60000 [==============================] - 93s 2ms/step - loss: 0.0887 - acc: 0.2138\n",
      "Epoch 3/20\n",
      "60000/60000 [==============================] - 93s 2ms/step - loss: 0.0844 - acc: 0.2226\n",
      "Epoch 4/20\n",
      "60000/60000 [==============================] - 93s 2ms/step - loss: 0.0743 - acc: 0.3199\n",
      "Epoch 5/20\n",
      "60000/60000 [==============================] - 93s 2ms/step - loss: 0.0628 - acc: 0.4617\n",
      "Epoch 6/20\n",
      "60000/60000 [==============================] - 92s 2ms/step - loss: 0.0422 - acc: 0.7130\n",
      "Epoch 7/20\n",
      "60000/60000 [==============================] - 93s 2ms/step - loss: 0.0232 - acc: 0.8495\n",
      "Epoch 8/20\n",
      "60000/60000 [==============================] - 93s 2ms/step - loss: 0.0174 - acc: 0.8861\n",
      "Epoch 9/20\n",
      "60000/60000 [==============================] - 93s 2ms/step - loss: 0.0142 - acc: 0.9073\n",
      "Epoch 10/20\n",
      "60000/60000 [==============================] - 94s 2ms/step - loss: 0.0120 - acc: 0.9225\n",
      "Epoch 11/20\n",
      "60000/60000 [==============================] - 92s 2ms/step - loss: 0.0106 - acc: 0.9326\n",
      "Epoch 12/20\n",
      "60000/60000 [==============================] - 92s 2ms/step - loss: 0.0095 - acc: 0.9388\n",
      "Epoch 13/20\n",
      "60000/60000 [==============================] - 92s 2ms/step - loss: 0.0087 - acc: 0.9452\n",
      "Epoch 14/20\n",
      "60000/60000 [==============================] - 93s 2ms/step - loss: 0.0080 - acc: 0.9489\n",
      "Epoch 15/20\n",
      "60000/60000 [==============================] - 92s 2ms/step - loss: 0.0075 - acc: 0.9520\n",
      "Epoch 16/20\n",
      "60000/60000 [==============================] - 92s 2ms/step - loss: 0.0071 - acc: 0.9548\n",
      "Epoch 17/20\n",
      "60000/60000 [==============================] - 92s 2ms/step - loss: 0.0067 - acc: 0.9569\n",
      "Epoch 18/20\n",
      "60000/60000 [==============================] - 92s 2ms/step - loss: 0.0063 - acc: 0.9600\n",
      "Epoch 19/20\n",
      "60000/60000 [==============================] - 92s 2ms/step - loss: 0.0061 - acc: 0.9609\n",
      "Epoch 20/20\n",
      "60000/60000 [==============================] - 93s 2ms/step - loss: 0.0059 - acc: 0.9626\n"
     ]
    },
    {
     "data": {
      "text/plain": [
       "<keras.callbacks.History at 0x7fb5793d2f60>"
      ]
     },
     "execution_count": 21,
     "metadata": {
      "tags": []
     },
     "output_type": "execute_result"
    }
   ],
   "source": [
    "model.fit(x_train, y_train, batch_size=100, epochs=20)"
   ]
  },
  {
   "cell_type": "code",
   "execution_count": 22,
   "metadata": {
    "colab": {
     "base_uri": "https://localhost:8080/",
     "height": 68
    },
    "colab_type": "code",
    "executionInfo": {
     "elapsed": 4543,
     "status": "ok",
     "timestamp": 1557426767277,
     "user": {
      "displayName": "weng keong chan",
      "photoUrl": "",
      "userId": "08429624832291330013"
     },
     "user_tz": -480
    },
    "id": "sDRdbKF1nuSN",
    "outputId": "b32b0d91-310c-43f1-e3a3-a4dea84d4ed6"
   },
   "outputs": [
    {
     "name": "stdout",
     "output_type": "stream",
     "text": [
      "\r",
      "10000/10000 [==============================] - 4s 408us/step\n",
      "Loss: 0.005512\n",
      "準確率: 96.359998\n"
     ]
    }
   ],
   "source": [
    "score = model.evaluate(x_test, y_test, batch_size=10000)\n",
    "print(\"Loss: %f\" %score[0])\n",
    "print(\"準確率: %f\" %(score[1]*100))"
   ]
  },
  {
   "cell_type": "markdown",
   "metadata": {},
   "source": [
    "儲存結果"
   ]
  },
  {
   "cell_type": "code",
   "execution_count": 72,
   "metadata": {
    "colab": {},
    "colab_type": "code",
    "id": "djjX5rH8nuSQ"
   },
   "outputs": [],
   "source": [
    "model.save('HW9_1.h5')"
   ]
  }
 ],
 "metadata": {
  "accelerator": "TPU",
  "colab": {
   "collapsed_sections": [],
   "name": "HW9.1.ipynb",
   "provenance": [],
   "version": "0.3.2"
  },
  "kernelspec": {
   "display_name": "Python 3",
   "language": "python",
   "name": "python3"
  },
  "language_info": {
   "codemirror_mode": {
    "name": "ipython",
    "version": 3
   },
   "file_extension": ".py",
   "mimetype": "text/x-python",
   "name": "python",
   "nbconvert_exporter": "python",
   "pygments_lexer": "ipython3",
   "version": "3.6.5"
  }
 },
 "nbformat": 4,
 "nbformat_minor": 1
}
