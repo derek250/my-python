{
 "cells": [
  {
   "cell_type": "code",
   "execution_count": 80,
   "metadata": {
    "colab": {
     "base_uri": "https://localhost:8080/",
     "height": 34
    },
    "colab_type": "code",
    "executionInfo": {
     "elapsed": 671,
     "status": "ok",
     "timestamp": 1556225036096,
     "user": {
      "displayName": "weng keong chan",
      "photoUrl": "",
      "userId": "08429624832291330013"
     },
     "user_tz": -480
    },
    "id": "EixpwAyCPRoW",
    "outputId": "15b40612-b3d9-4a06-a482-323f729bebf6"
   },
   "outputs": [
    {
     "name": "stdout",
     "output_type": "stream",
     "text": [
      "env: KERAS_BACKEND=tensorflow\n"
     ]
    }
   ],
   "source": [
    "%env KERAS_BACKEND=tensorflow\n",
    "%matplotlib inline\n",
    "\n",
    "import numpy as np\n",
    "import matplotlib.pyplot as plt\n",
    "from ipywidgets import interact_manual"
   ]
  },
  {
   "cell_type": "code",
   "execution_count": 50,
   "metadata": {
    "colab": {
     "base_uri": "https://localhost:8080/",
     "height": 34
    },
    "colab_type": "code",
    "executionInfo": {
     "elapsed": 1822,
     "status": "ok",
     "timestamp": 1556225074554,
     "user": {
      "displayName": "weng keong chan",
      "photoUrl": "",
      "userId": "08429624832291330013"
     },
     "user_tz": -480
    },
    "id": "I_O_xO5fPRoc",
    "outputId": "3a5ec9dc-4ea3-4421-9dfc-c4656b1273c4"
   },
   "outputs": [],
   "source": [
    "from keras.datasets import mnist\n",
    "from keras.utils import np_utils\n",
    "\n",
    "from keras.models import Sequential\n",
    "from keras.layers import Dense, Activation\n",
    "from keras.optimizers import SGD"
   ]
  },
  {
   "cell_type": "code",
   "execution_count": 51,
   "metadata": {
    "colab": {
     "base_uri": "https://localhost:8080/",
     "height": 51
    },
    "colab_type": "code",
    "executionInfo": {
     "elapsed": 1373,
     "status": "ok",
     "timestamp": 1556225080681,
     "user": {
      "displayName": "weng keong chan",
      "photoUrl": "",
      "userId": "08429624832291330013"
     },
     "user_tz": -480
    },
    "id": "gq6x0z0VPRoe",
    "outputId": "847cd769-13f8-4ec5-89b7-a18525b28c29"
   },
   "outputs": [],
   "source": [
    "(x_train, y_train), (x_test, y_test) = mnist.load_data()"
   ]
  },
  {
   "cell_type": "markdown",
   "metadata": {},
   "source": [
    "資料整理"
   ]
  },
  {
   "cell_type": "code",
   "execution_count": 52,
   "metadata": {
    "colab": {
     "base_uri": "https://localhost:8080/",
     "height": 34
    },
    "colab_type": "code",
    "executionInfo": {
     "elapsed": 588,
     "status": "ok",
     "timestamp": 1556225091673,
     "user": {
      "displayName": "weng keong chan",
      "photoUrl": "",
      "userId": "08429624832291330013"
     },
     "user_tz": -480
    },
    "id": "eu54zEUaPRoi",
    "outputId": "96f1174c-6e82-4495-ce9e-a95989f8d5b7"
   },
   "outputs": [],
   "source": [
    "X_train=x_train.reshape(60000,784)\n",
    "X_test=x_test.reshape(10000,784)\n",
    "Y_train = np_utils.to_categorical(y_train, 10)\n",
    "Y_test = np_utils.to_categorical(y_test, 10)"
   ]
  },
  {
   "cell_type": "markdown",
   "metadata": {},
   "source": [
    "生成神經網路"
   ]
  },
  {
   "cell_type": "code",
   "execution_count": 65,
   "metadata": {
    "colab": {},
    "colab_type": "code",
    "id": "G8gzNUKyPRop"
   },
   "outputs": [],
   "source": [
    "model = Sequential()\n",
    "\n",
    "model.add(Dense(500, input_dim=784))\n",
    "model.add(Activation('sigmoid'))\n",
    "\n",
    "model.add(Dense(300))\n",
    "model.add(Activation('sigmoid'))\n",
    "\n",
    "model.add(Dense(100))\n",
    "model.add(Activation('sigmoid'))\n",
    "\n",
    "model.add(Dense(10))\n",
    "model.add(Activation('softmax'))\n",
    "\n",
    "model.compile(loss='mse', optimizer=SGD(lr=0.087), metrics=['accuracy'])"
   ]
  },
  {
   "cell_type": "code",
   "execution_count": 66,
   "metadata": {
    "scrolled": false
   },
   "outputs": [
    {
     "name": "stdout",
     "output_type": "stream",
     "text": [
      "_________________________________________________________________\n",
      "Layer (type)                 Output Shape              Param #   \n",
      "=================================================================\n",
      "dense_21 (Dense)             (None, 500)               392500    \n",
      "_________________________________________________________________\n",
      "activation_21 (Activation)   (None, 500)               0         \n",
      "_________________________________________________________________\n",
      "dense_22 (Dense)             (None, 300)               150300    \n",
      "_________________________________________________________________\n",
      "activation_22 (Activation)   (None, 300)               0         \n",
      "_________________________________________________________________\n",
      "dense_23 (Dense)             (None, 100)               30100     \n",
      "_________________________________________________________________\n",
      "activation_23 (Activation)   (None, 100)               0         \n",
      "_________________________________________________________________\n",
      "dense_24 (Dense)             (None, 10)                1010      \n",
      "_________________________________________________________________\n",
      "activation_24 (Activation)   (None, 10)                0         \n",
      "=================================================================\n",
      "Total params: 573,910\n",
      "Trainable params: 573,910\n",
      "Non-trainable params: 0\n",
      "_________________________________________________________________\n"
     ]
    }
   ],
   "source": [
    "model.summary() "
   ]
  },
  {
   "cell_type": "markdown",
   "metadata": {},
   "source": [
    "訓練神經網路"
   ]
  },
  {
   "cell_type": "code",
   "execution_count": 72,
   "metadata": {
    "scrolled": false
   },
   "outputs": [
    {
     "name": "stdout",
     "output_type": "stream",
     "text": [
      "Epoch 1/30\n",
      "60000/60000 [==============================] - 6s 97us/step - loss: 0.0078 - acc: 0.9561\n",
      "Epoch 2/30\n",
      "60000/60000 [==============================] - 8s 126us/step - loss: 0.0075 - acc: 0.9577\n",
      "Epoch 3/30\n",
      "60000/60000 [==============================] - 7s 122us/step - loss: 0.0073 - acc: 0.9589\n",
      "Epoch 4/30\n",
      "60000/60000 [==============================] - 7s 122us/step - loss: 0.0071 - acc: 0.9599\n",
      "Epoch 5/30\n",
      "60000/60000 [==============================] - 7s 115us/step - loss: 0.0069 - acc: 0.9613\n",
      "Epoch 6/30\n",
      "60000/60000 [==============================] - 7s 109us/step - loss: 0.0068 - acc: 0.9616\n",
      "Epoch 7/30\n",
      "60000/60000 [==============================] - 7s 114us/step - loss: 0.0067 - acc: 0.9630\n",
      "Epoch 8/30\n",
      "60000/60000 [==============================] - 7s 117us/step - loss: 0.0065 - acc: 0.9638\n",
      "Epoch 9/30\n",
      "60000/60000 [==============================] - 6s 108us/step - loss: 0.0064 - acc: 0.9642 1s \n",
      "Epoch 10/30\n",
      "60000/60000 [==============================] - 7s 114us/step - loss: 0.0063 - acc: 0.9651\n",
      "Epoch 11/30\n",
      "60000/60000 [==============================] - 7s 110us/step - loss: 0.0062 - acc: 0.9655\n",
      "Epoch 12/30\n",
      "60000/60000 [==============================] - 6s 104us/step - loss: 0.0061 - acc: 0.9661\n",
      "Epoch 13/30\n",
      "60000/60000 [==============================] - 6s 103us/step - loss: 0.0060 - acc: 0.9665\n",
      "Epoch 14/30\n",
      "60000/60000 [==============================] - 6s 107us/step - loss: 0.0059 - acc: 0.9669\n",
      "Epoch 15/30\n",
      "60000/60000 [==============================] - 7s 120us/step - loss: 0.0058 - acc: 0.9676\n",
      "Epoch 16/30\n",
      "60000/60000 [==============================] - 7s 114us/step - loss: 0.0057 - acc: 0.9678\n",
      "Epoch 17/30\n",
      "60000/60000 [==============================] - 6s 105us/step - loss: 0.0057 - acc: 0.9681\n",
      "Epoch 18/30\n",
      "60000/60000 [==============================] - 6s 103us/step - loss: 0.0056 - acc: 0.9687\n",
      "Epoch 19/30\n",
      "60000/60000 [==============================] - 6s 106us/step - loss: 0.0055 - acc: 0.9690\n",
      "Epoch 20/30\n",
      "60000/60000 [==============================] - 6s 107us/step - loss: 0.0054 - acc: 0.9694\n",
      "Epoch 21/30\n",
      "60000/60000 [==============================] - 6s 104us/step - loss: 0.0054 - acc: 0.9697\n",
      "Epoch 22/30\n",
      "60000/60000 [==============================] - 7s 117us/step - loss: 0.0053 - acc: 0.9698\n",
      "Epoch 23/30\n",
      "60000/60000 [==============================] - 6s 103us/step - loss: 0.0053 - acc: 0.9701\n",
      "Epoch 24/30\n",
      "60000/60000 [==============================] - 7s 109us/step - loss: 0.0052 - acc: 0.9705\n",
      "Epoch 25/30\n",
      "60000/60000 [==============================] - 6s 108us/step - loss: 0.0051 - acc: 0.9707\n",
      "Epoch 26/30\n",
      "60000/60000 [==============================] - 7s 115us/step - loss: 0.0051 - acc: 0.9709\n",
      "Epoch 27/30\n",
      "60000/60000 [==============================] - 7s 114us/step - loss: 0.0050 - acc: 0.9713\n",
      "Epoch 28/30\n",
      "60000/60000 [==============================] - 8s 133us/step - loss: 0.0050 - acc: 0.9714\n",
      "Epoch 29/30\n",
      "60000/60000 [==============================] - 7s 118us/step - loss: 0.0049 - acc: 0.9717\n",
      "Epoch 30/30\n",
      "60000/60000 [==============================] - 7s 124us/step - loss: 0.0049 - acc: 0.9718\n"
     ]
    },
    {
     "data": {
      "text/plain": [
       "<keras.callbacks.History at 0x14faed4048>"
      ]
     },
     "execution_count": 72,
     "metadata": {},
     "output_type": "execute_result"
    }
   ],
   "source": [
    "model.fit(X_train, Y_train, batch_size=100, epochs=30)"
   ]
  },
  {
   "cell_type": "markdown",
   "metadata": {},
   "source": [
    "看一下實際的成效"
   ]
  },
  {
   "cell_type": "code",
   "execution_count": 81,
   "metadata": {
    "scrolled": true
   },
   "outputs": [
    {
     "data": {
      "application/vnd.jupyter.widget-view+json": {
       "model_id": "6d73607a66af49908408ad2e1ce76d65",
       "version_major": 2,
       "version_minor": 0
      },
      "text/plain": [
       "interactive(children=(IntSlider(value=4999, description='測試編號', max=9999), Button(description='Run Interact', …"
      ]
     },
     "metadata": {},
     "output_type": "display_data"
    },
    {
     "data": {
      "text/plain": [
       "<function __main__.test(測試編號)>"
      ]
     },
     "execution_count": 81,
     "metadata": {},
     "output_type": "execute_result"
    }
   ],
   "source": [
    "predict = model.predict_classes(X_test)\n",
    "\n",
    "def test(測試編號):\n",
    "    plt.imshow(x_test[測試編號], cmap='Greys')\n",
    "    print('神經網路判斷為:', predict[測試編號])\n",
    "    \n",
    "interact_manual(test, 測試編號=(0, 9999))"
   ]
  },
  {
   "cell_type": "code",
   "execution_count": 75,
   "metadata": {
    "scrolled": true
   },
   "outputs": [
    {
     "name": "stdout",
     "output_type": "stream",
     "text": [
      "10000/10000 [==============================] - 1s 67us/step\n",
      "loss: 0.00824623504576739\n",
      "正確率 0.9462\n"
     ]
    }
   ],
   "source": [
    "score = model.evaluate(X_test, Y_test)\n",
    "print('loss:', score[0])\n",
    "print('正確率', score[1])"
   ]
  },
  {
   "cell_type": "markdown",
   "metadata": {},
   "source": [
    "把神經網路存起來"
   ]
  },
  {
   "cell_type": "code",
   "execution_count": 76,
   "metadata": {},
   "outputs": [],
   "source": [
    "model_json = model.to_json()\n",
    "open('stupid_model.json', 'w').write(model_json)\n",
    "model.save_weights('stupid_model_weights.h5')"
   ]
  }
 ],
 "metadata": {
  "accelerator": "TPU",
  "colab": {
   "name": "HW7.1.ipynb",
   "provenance": [],
   "version": "0.3.2"
  },
  "kernelspec": {
   "display_name": "Python 3",
   "language": "python",
   "name": "python3"
  },
  "language_info": {
   "codemirror_mode": {
    "name": "ipython",
    "version": 3
   },
   "file_extension": ".py",
   "mimetype": "text/x-python",
   "name": "python",
   "nbconvert_exporter": "python",
   "pygments_lexer": "ipython3",
   "version": "3.6.5"
  }
 },
 "nbformat": 4,
 "nbformat_minor": 1
}
