{
 "cells": [
  {
   "cell_type": "markdown",
   "metadata": {},
   "source": [
    "### 使用Functional API打造神經網路，加一些分岔的部分在模型結構中"
   ]
  },
  {
   "cell_type": "code",
   "execution_count": 166,
   "metadata": {
    "scrolled": true
   },
   "outputs": [
    {
     "name": "stdout",
     "output_type": "stream",
     "text": [
      "env: KERAS_BACKEND=tensorflow\n"
     ]
    }
   ],
   "source": [
    "%env KERAS_BACKEND=tensorflow\n",
    "%matplotlib inline\n",
    "\n",
    "import numpy as np\n",
    "import matplotlib.pyplot as plt\n",
    "from ipywidgets import interact_manual\n",
    "from ipywidgets import interact, IntSlider, Button"
   ]
  },
  {
   "cell_type": "code",
   "execution_count": 167,
   "metadata": {},
   "outputs": [],
   "source": [
    "# Keras functions\n",
    "from keras.models import Sequential\n",
    "from keras.layers import Dense, Activation\n",
    "from keras.optimizers import SGD,Adam\n",
    "\n",
    "# Keras dataset\n",
    "from keras.datasets import mnist\n",
    "\n",
    "# Keras utils\n",
    "from keras.utils import np_utils\n",
    "\n",
    "\n",
    "from keras.models import Model\n",
    "from keras.layers import Input\n",
    "from keras.layers import concatenate, add"
   ]
  },
  {
   "cell_type": "markdown",
   "metadata": {},
   "source": [
    "讀入MNIST的資料，然後把資料變成我們要的樣子"
   ]
  },
  {
   "cell_type": "code",
   "execution_count": 168,
   "metadata": {},
   "outputs": [],
   "source": [
    "(x_train0, y_train0), (x_test0, y_test0) = mnist.load_data()"
   ]
  },
  {
   "cell_type": "code",
   "execution_count": 180,
   "metadata": {},
   "outputs": [],
   "source": [
    "x_train = x_train0.reshape(60000, 28*28)\n",
    "x_test = x_test0.reshape(10000, 28*28)"
   ]
  },
  {
   "cell_type": "code",
   "execution_count": 181,
   "metadata": {},
   "outputs": [],
   "source": [
    "y_train= np_utils.to_categorical(y_train0, 10)\n",
    "y_test= np_utils.to_categorical(y_test0, 10)"
   ]
  },
  {
   "cell_type": "markdown",
   "metadata": {},
   "source": [
    "用Functional API建立神經網路"
   ]
  },
  {
   "cell_type": "code",
   "execution_count": 225,
   "metadata": {},
   "outputs": [],
   "source": [
    "x = Input(shape=(784,))\n",
    "f_1_1 = Dense(200, activation='sigmoid')\n",
    "f_1_2 = Dense(200, activation='relu')\n",
    "f_1_3 = Dense(200, activation='sigmoid')\n",
    "\n",
    "f_2_1 = Dense(100, activation='sigmoid')\n",
    "f_2_2 = Dense(100, activation='sigmoid')\n",
    "f_2_3 = Dense(100, activation='sigmoid')\n",
    "f_2_4 = Dense(100, activation='sigmoid')\n",
    "\n",
    "\n",
    "f_3_1 = Dense(50, activation='sigmoid')\n",
    "f_3_2 = Dense(50, activation='sigmoid')\n",
    "f_3_3 = Dense(50, activation='sigmoid')\n",
    "\n",
    "f_4 = Dense(10, activation='softmax')"
   ]
  },
  {
   "cell_type": "code",
   "execution_count": 226,
   "metadata": {},
   "outputs": [],
   "source": [
    "h_1_1 = f_1_1(x)\n",
    "h_1_2 = f_1_2(x)\n",
    "h_1_3 = f_1_3(x)\n",
    "h_1_4 = concatenate([h_1_1,h_1_2])\n",
    "\n",
    "\n",
    "h_2_1 = f_2_1(h_1_4)\n",
    "h_2_2 = f_2_2(h_1_4)\n",
    "h_2_3 = f_2_3(h_1_3)\n",
    "h_2_4 = f_2_4(h_1_3)\n",
    "h_2_5 = concatenate([h_2_1,h_2_2,h_2_3])\n",
    "h_2_6 = concatenate([h_2_1,h_2_4])\n",
    "\n",
    "h_3_1 = f_3_1(h_2_5)\n",
    "h_3_2 = f_3_2(h_2_5)\n",
    "h_3_3 = f_3_3(h_2_6)\n",
    "h_3 = concatenate([h_3_1,h_3_2,h_3_3])\n",
    "\n",
    "y = f_4(h_3)"
   ]
  },
  {
   "cell_type": "code",
   "execution_count": 227,
   "metadata": {},
   "outputs": [
    {
     "name": "stdout",
     "output_type": "stream",
     "text": [
      "__________________________________________________________________________________________________\n",
      "Layer (type)                    Output Shape         Param #     Connected to                     \n",
      "==================================================================================================\n",
      "input_15 (InputLayer)           (None, 784)          0                                            \n",
      "__________________________________________________________________________________________________\n",
      "dense_174 (Dense)               (None, 200)          157000      input_15[0][0]                   \n",
      "__________________________________________________________________________________________________\n",
      "dense_175 (Dense)               (None, 200)          157000      input_15[0][0]                   \n",
      "__________________________________________________________________________________________________\n",
      "concatenate_34 (Concatenate)    (None, 400)          0           dense_174[0][0]                  \n",
      "                                                                 dense_175[0][0]                  \n",
      "__________________________________________________________________________________________________\n",
      "dense_176 (Dense)               (None, 200)          157000      input_15[0][0]                   \n",
      "__________________________________________________________________________________________________\n",
      "dense_177 (Dense)               (None, 100)          40100       concatenate_34[0][0]             \n",
      "__________________________________________________________________________________________________\n",
      "dense_178 (Dense)               (None, 100)          40100       concatenate_34[0][0]             \n",
      "__________________________________________________________________________________________________\n",
      "dense_179 (Dense)               (None, 100)          20100       dense_176[0][0]                  \n",
      "__________________________________________________________________________________________________\n",
      "dense_180 (Dense)               (None, 100)          20100       dense_176[0][0]                  \n",
      "__________________________________________________________________________________________________\n",
      "concatenate_35 (Concatenate)    (None, 300)          0           dense_177[0][0]                  \n",
      "                                                                 dense_178[0][0]                  \n",
      "                                                                 dense_179[0][0]                  \n",
      "__________________________________________________________________________________________________\n",
      "concatenate_36 (Concatenate)    (None, 200)          0           dense_177[0][0]                  \n",
      "                                                                 dense_180[0][0]                  \n",
      "__________________________________________________________________________________________________\n",
      "dense_181 (Dense)               (None, 50)           15050       concatenate_35[0][0]             \n",
      "__________________________________________________________________________________________________\n",
      "dense_182 (Dense)               (None, 50)           15050       concatenate_35[0][0]             \n",
      "__________________________________________________________________________________________________\n",
      "dense_183 (Dense)               (None, 50)           10050       concatenate_36[0][0]             \n",
      "__________________________________________________________________________________________________\n",
      "concatenate_37 (Concatenate)    (None, 150)          0           dense_181[0][0]                  \n",
      "                                                                 dense_182[0][0]                  \n",
      "                                                                 dense_183[0][0]                  \n",
      "__________________________________________________________________________________________________\n",
      "dense_184 (Dense)               (None, 10)           1510        concatenate_37[0][0]             \n",
      "==================================================================================================\n",
      "Total params: 633,060\n",
      "Trainable params: 633,060\n",
      "Non-trainable params: 0\n",
      "__________________________________________________________________________________________________\n"
     ]
    }
   ],
   "source": [
    "model=Model(x,y)\n",
    "model.summary()"
   ]
  },
  {
   "cell_type": "code",
   "execution_count": 228,
   "metadata": {},
   "outputs": [],
   "source": [
    "model.compile(loss='mse', optimizer=SGD(lr=0.087), metrics=['accuracy'])"
   ]
  },
  {
   "cell_type": "markdown",
   "metadata": {},
   "source": [
    "訓練並看一下成果"
   ]
  },
  {
   "cell_type": "code",
   "execution_count": 231,
   "metadata": {},
   "outputs": [
    {
     "name": "stdout",
     "output_type": "stream",
     "text": [
      "Epoch 1/20\n",
      "60000/60000 [==============================] - 8s 137us/step - loss: 0.0088 - acc: 0.9485\n",
      "Epoch 2/20\n",
      "60000/60000 [==============================] - 9s 153us/step - loss: 0.0085 - acc: 0.9497\n",
      "Epoch 3/20\n",
      "60000/60000 [==============================] - 9s 153us/step - loss: 0.0082 - acc: 0.9521\n",
      "Epoch 4/20\n",
      "60000/60000 [==============================] - 10s 164us/step - loss: 0.0079 - acc: 0.9537\n",
      "Epoch 5/20\n",
      "60000/60000 [==============================] - 10s 172us/step - loss: 0.0077 - acc: 0.9552\n",
      "Epoch 6/20\n",
      "60000/60000 [==============================] - 10s 159us/step - loss: 0.0074 - acc: 0.9569\n",
      "Epoch 7/20\n",
      "60000/60000 [==============================] - 10s 162us/step - loss: 0.0072 - acc: 0.9579\n",
      "Epoch 8/20\n",
      "60000/60000 [==============================] - 10s 164us/step - loss: 0.0070 - acc: 0.9592\n",
      "Epoch 9/20\n",
      "60000/60000 [==============================] - 10s 172us/step - loss: 0.0068 - acc: 0.9607\n",
      "Epoch 10/20\n",
      "60000/60000 [==============================] - 10s 172us/step - loss: 0.0066 - acc: 0.96180s - loss: 0.0066 - acc: 0.961\n",
      "Epoch 11/20\n",
      "60000/60000 [==============================] - 10s 165us/step - loss: 0.0064 - acc: 0.9629\n",
      "Epoch 12/20\n",
      "60000/60000 [==============================] - 10s 167us/step - loss: 0.0062 - acc: 0.96400s - loss: 0.0062 - acc: \n",
      "Epoch 13/20\n",
      "60000/60000 [==============================] - 10s 165us/step - loss: 0.0061 - acc: 0.9650\n",
      "Epoch 14/20\n",
      "60000/60000 [==============================] - 10s 166us/step - loss: 0.0059 - acc: 0.9660\n",
      "Epoch 15/20\n",
      "60000/60000 [==============================] - 10s 169us/step - loss: 0.0058 - acc: 0.9668\n",
      "Epoch 16/20\n",
      "60000/60000 [==============================] - 10s 163us/step - loss: 0.0057 - acc: 0.9675\n",
      "Epoch 17/20\n",
      "60000/60000 [==============================] - 10s 164us/step - loss: 0.0055 - acc: 0.9685\n",
      "Epoch 18/20\n",
      "60000/60000 [==============================] - 10s 160us/step - loss: 0.0054 - acc: 0.9694\n",
      "Epoch 19/20\n",
      "60000/60000 [==============================] - 10s 167us/step - loss: 0.0053 - acc: 0.9698\n",
      "Epoch 20/20\n",
      "60000/60000 [==============================] - 10s 167us/step - loss: 0.0052 - acc: 0.9706\n"
     ]
    },
    {
     "data": {
      "text/plain": [
       "<keras.callbacks.History at 0x6a8ac87be0>"
      ]
     },
     "execution_count": 231,
     "metadata": {},
     "output_type": "execute_result"
    }
   ],
   "source": [
    "model.fit(x_train,y_train,batch_size=100, epochs=20)"
   ]
  },
  {
   "cell_type": "code",
   "execution_count": 232,
   "metadata": {},
   "outputs": [
    {
     "name": "stdout",
     "output_type": "stream",
     "text": [
      "10000/10000 [==============================] - 1s 58us/step\n",
      "Loss: 0.006814\n",
      "準確率: 95.599997\n"
     ]
    }
   ],
   "source": [
    "score = model.evaluate(x_test, y_test, batch_size=10000)\n",
    "print(\"Loss: %f\" %score[0])\n",
    "print(\"準確率: %f\" %(score[1]*100))"
   ]
  }
 ],
 "metadata": {
  "kernelspec": {
   "display_name": "Python 3",
   "language": "python",
   "name": "python3"
  },
  "language_info": {
   "codemirror_mode": {
    "name": "ipython",
    "version": 3
   },
   "file_extension": ".py",
   "mimetype": "text/x-python",
   "name": "python",
   "nbconvert_exporter": "python",
   "pygments_lexer": "ipython3",
   "version": "3.6.5"
  }
 },
 "nbformat": 4,
 "nbformat_minor": 2
}
