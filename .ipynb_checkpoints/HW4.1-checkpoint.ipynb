{
 "cells": [
  {
   "cell_type": "code",
   "execution_count": 1,
   "metadata": {},
   "outputs": [
    {
     "data": {
      "text/plain": [
       "'Chinese (Traditional)_Hong Kong SAR.950'"
      ]
     },
     "execution_count": 1,
     "metadata": {},
     "output_type": "execute_result"
    }
   ],
   "source": [
    "%matplotlib inline\n",
    "\n",
    "import numpy as np\n",
    "import matplotlib.pyplot as plt\n",
    "import pandas as pd\n",
    "import matplotlib as mpl\n",
    "import locale\n",
    "\n",
    "locale.setlocale(locale.LC_NUMERIC, '')"
   ]
  },
  {
   "cell_type": "code",
   "execution_count": 4,
   "metadata": {},
   "outputs": [],
   "source": [
    "mpl.font_manager._rebuild()"
   ]
  },
  {
   "cell_type": "code",
   "execution_count": 5,
   "metadata": {},
   "outputs": [],
   "source": [
    "mpl.rc('font', family='Noto Sans CJK TC')"
   ]
  },
  {
   "cell_type": "code",
   "execution_count": 9,
   "metadata": {
    "scrolled": false
   },
   "outputs": [
    {
     "data": {
      "text/html": [
       "<div>\n",
       "<style scoped>\n",
       "    .dataframe tbody tr th:only-of-type {\n",
       "        vertical-align: middle;\n",
       "    }\n",
       "\n",
       "    .dataframe tbody tr th {\n",
       "        vertical-align: top;\n",
       "    }\n",
       "\n",
       "    .dataframe thead th {\n",
       "        text-align: right;\n",
       "    }\n",
       "</style>\n",
       "<table border=\"1\" class=\"dataframe\">\n",
       "  <thead>\n",
       "    <tr style=\"text-align: right;\">\n",
       "      <th></th>\n",
       "      <th>序號</th>\n",
       "      <th>國別地區</th>\n",
       "      <th>中文片名</th>\n",
       "      <th>上映日期</th>\n",
       "      <th>申請人</th>\n",
       "      <th>出品</th>\n",
       "      <th>上映日數</th>\n",
       "      <th>上映院數</th>\n",
       "      <th>銷售票數</th>\n",
       "      <th>周票數變動率</th>\n",
       "      <th>銷售金額</th>\n",
       "      <th>累計銷售票數</th>\n",
       "      <th>累計銷售金額</th>\n",
       "    </tr>\n",
       "  </thead>\n",
       "  <tbody>\n",
       "    <tr>\n",
       "      <th>0</th>\n",
       "      <td>1</td>\n",
       "      <td>日本</td>\n",
       "      <td>Fate/stay night：II.迷途之蝶</td>\n",
       "      <td>2019/03/09</td>\n",
       "      <td>曼迪傳播有限公司</td>\n",
       "      <td>Aniplex Inc.</td>\n",
       "      <td>5</td>\n",
       "      <td>17</td>\n",
       "      <td>26,822</td>\n",
       "      <td>9,023.13%</td>\n",
       "      <td>6700357.0</td>\n",
       "      <td>27,116</td>\n",
       "      <td>6,770,917</td>\n",
       "    </tr>\n",
       "    <tr>\n",
       "      <th>1</th>\n",
       "      <td>2</td>\n",
       "      <td>泰國</td>\n",
       "      <td>限時好友</td>\n",
       "      <td>2019/03/08</td>\n",
       "      <td>威視股份有限公司</td>\n",
       "      <td>GDH 599 COMPANY LIMITED</td>\n",
       "      <td>7</td>\n",
       "      <td>60</td>\n",
       "      <td>20,130</td>\n",
       "      <td>19.49%</td>\n",
       "      <td>4619406.0</td>\n",
       "      <td>43,392</td>\n",
       "      <td>10,020,838</td>\n",
       "    </tr>\n",
       "    <tr>\n",
       "      <th>2</th>\n",
       "      <td>3</td>\n",
       "      <td>香港</td>\n",
       "      <td>滾滾紅塵(數位修復版)</td>\n",
       "      <td>2019/03/08</td>\n",
       "      <td>能率影業股份有限公司</td>\n",
       "      <td>湯臣(香港)電影有限公司</td>\n",
       "      <td>7</td>\n",
       "      <td>24</td>\n",
       "      <td>5,541</td>\n",
       "      <td>1.76%</td>\n",
       "      <td>1209297.0</td>\n",
       "      <td>10,986</td>\n",
       "      <td>2,432,066</td>\n",
       "    </tr>\n",
       "    <tr>\n",
       "      <th>3</th>\n",
       "      <td>4</td>\n",
       "      <td>中華民國</td>\n",
       "      <td>乳‧房</td>\n",
       "      <td>2019/03/08</td>\n",
       "      <td>可樂藝術文創股份有限公司</td>\n",
       "      <td>吳美良##謝志文##廖琬玲##廖千秀</td>\n",
       "      <td>7</td>\n",
       "      <td>22</td>\n",
       "      <td>2,042</td>\n",
       "      <td>-23.83%</td>\n",
       "      <td>452964.0</td>\n",
       "      <td>4,835</td>\n",
       "      <td>1,076,718</td>\n",
       "    </tr>\n",
       "    <tr>\n",
       "      <th>4</th>\n",
       "      <td>5</td>\n",
       "      <td>美國</td>\n",
       "      <td>RBG：不恐龍大法官</td>\n",
       "      <td>2019/03/08</td>\n",
       "      <td>亮點國際影業有限公司</td>\n",
       "      <td>Magnolia Pictures LLC</td>\n",
       "      <td>7</td>\n",
       "      <td>12</td>\n",
       "      <td>1,805</td>\n",
       "      <td>25.52%</td>\n",
       "      <td>385355.0</td>\n",
       "      <td>3,310</td>\n",
       "      <td>707,988</td>\n",
       "    </tr>\n",
       "  </tbody>\n",
       "</table>\n",
       "</div>"
      ],
      "text/plain": [
       "   序號  國別地區                     中文片名        上映日期           申請人  \\\n",
       "0   1    日本  Fate/stay night：II.迷途之蝶  2019/03/09      曼迪傳播有限公司   \n",
       "1   2    泰國                     限時好友  2019/03/08      威視股份有限公司   \n",
       "2   3    香港              滾滾紅塵(數位修復版)  2019/03/08    能率影業股份有限公司   \n",
       "3   4  中華民國                      乳‧房  2019/03/08  可樂藝術文創股份有限公司   \n",
       "4   5    美國               RBG：不恐龍大法官  2019/03/08    亮點國際影業有限公司   \n",
       "\n",
       "                        出品  上映日數  上映院數    銷售票數     周票數變動率       銷售金額  累計銷售票數  \\\n",
       "0             Aniplex Inc.     5    17  26,822  9,023.13%  6700357.0  27,116   \n",
       "1  GDH 599 COMPANY LIMITED     7    60  20,130     19.49%  4619406.0  43,392   \n",
       "2             湯臣(香港)電影有限公司     7    24   5,541      1.76%  1209297.0  10,986   \n",
       "3       吳美良##謝志文##廖琬玲##廖千秀     7    22   2,042    -23.83%   452964.0   4,835   \n",
       "4    Magnolia Pictures LLC     7    12   1,805     25.52%   385355.0   3,310   \n",
       "\n",
       "       累計銷售金額  \n",
       "0   6,770,917  \n",
       "1  10,020,838  \n",
       "2   2,432,066  \n",
       "3   1,076,718  \n",
       "4     707,988  "
      ]
     },
     "execution_count": 9,
     "metadata": {},
     "output_type": "execute_result"
    }
   ],
   "source": [
    "df=pd.read_csv('https://opendata.culture.tw/upload/dataSource/2019-03-21/6eebfdc2-bb2f-4c8c-bd01-90bfbe65c42c/36b480389779619a577a8cb1ac873b94.csv')\n",
    "df['銷售金額']=df['銷售金額'].apply(locale.atof)\n",
    "df.head()"
   ]
  },
  {
   "cell_type": "code",
   "execution_count": 11,
   "metadata": {
    "scrolled": false
   },
   "outputs": [
    {
     "data": {
      "text/plain": [
       "Text(0,0.5,'銷售金額')"
      ]
     },
     "execution_count": 11,
     "metadata": {},
     "output_type": "execute_result"
    },
    {
     "data": {
      "image/png": "[encoded data removed]",
      "text/plain": [
       "<Figure size 432x288 with 1 Axes>"
      ]
     },
     "metadata": {},
     "output_type": "display_data"
    }
   ],
   "source": [
    "df2 = df.sort_values(by = ['銷售金額'], ascending=False)\n",
    "df2[:10].plot.bar(x='中文片名',y='銷售金額')\n",
    "plt.title('銷售金額前10名', size=20)\n",
    "plt.xlabel('中文片名', size=15)\n",
    "plt.ylabel('銷售金額', size=15)"
   ]
  },
  {
   "cell_type": "code",
   "execution_count": null,
   "metadata": {},
   "outputs": [],
   "source": []
  }
 ],
 "metadata": {
  "kernelspec": {
   "display_name": "Python 3",
   "language": "python",
   "name": "python3"
  },
  "language_info": {
   "codemirror_mode": {
    "name": "ipython",
    "version": 3
   },
   "file_extension": ".py",
   "mimetype": "text/x-python",
   "name": "python",
   "nbconvert_exporter": "python",
   "pygments_lexer": "ipython3",
   "version": "3.6.5"
  }
 },
 "nbformat": 4,
 "nbformat_minor": 2
}
