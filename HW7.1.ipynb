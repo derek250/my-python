{
 "cells": [
  {
   "cell_type": "code",
   "execution_count": 1,
   "metadata": {
    "colab": {
     "base_uri": "https://localhost:8080/",
     "height": 34
    },
    "colab_type": "code",
    "executionInfo": {
     "elapsed": 671,
     "status": "ok",
     "timestamp": 1556225036096,
     "user": {
      "displayName": "weng keong chan",
      "photoUrl": "",
      "userId": "08429624832291330013"
     },
     "user_tz": -480
    },
    "id": "EixpwAyCPRoW",
    "outputId": "15b40612-b3d9-4a06-a482-323f729bebf6",
    "scrolled": true
   },
   "outputs": [
    {
     "name": "stdout",
     "output_type": "stream",
     "text": [
      "env: KERAS_BACKEND=tensorflow\n"
     ]
    }
   ],
   "source": [
    "%env KERAS_BACKEND=tensorflow\n",
    "%matplotlib inline\n",
    "\n",
    "import numpy as np\n",
    "import matplotlib.pyplot as plt\n",
    "from ipywidgets import interact_manual"
   ]
  },
  {
   "cell_type": "code",
   "execution_count": 2,
   "metadata": {
    "colab": {
     "base_uri": "https://localhost:8080/",
     "height": 34
    },
    "colab_type": "code",
    "executionInfo": {
     "elapsed": 1822,
     "status": "ok",
     "timestamp": 1556225074554,
     "user": {
      "displayName": "weng keong chan",
      "photoUrl": "",
      "userId": "08429624832291330013"
     },
     "user_tz": -480
    },
    "id": "I_O_xO5fPRoc",
    "outputId": "3a5ec9dc-4ea3-4421-9dfc-c4656b1273c4"
   },
   "outputs": [
    {
     "name": "stderr",
     "output_type": "stream",
     "text": [
      "D:\\Anaconda3\\lib\\site-packages\\h5py\\__init__.py:36: FutureWarning: Conversion of the second argument of issubdtype from `float` to `np.floating` is deprecated. In future, it will be treated as `np.float64 == np.dtype(float).type`.\n",
      "  from ._conv import register_converters as _register_converters\n",
      "Using TensorFlow backend.\n"
     ]
    }
   ],
   "source": [
    "from keras.datasets import mnist\n",
    "from keras.utils import np_utils\n",
    "\n",
    "from keras.models import Sequential\n",
    "from keras.layers import Dense, Activation\n",
    "from keras.optimizers import SGD\n",
    "\n",
    "import tensorflow as tf"
   ]
  },
  {
   "cell_type": "code",
   "execution_count": 4,
   "metadata": {
    "colab": {
     "base_uri": "https://localhost:8080/",
     "height": 51
    },
    "colab_type": "code",
    "executionInfo": {
     "elapsed": 1373,
     "status": "ok",
     "timestamp": 1556225080681,
     "user": {
      "displayName": "weng keong chan",
      "photoUrl": "",
      "userId": "08429624832291330013"
     },
     "user_tz": -480
    },
    "id": "gq6x0z0VPRoe",
    "outputId": "847cd769-13f8-4ec5-89b7-a18525b28c29"
   },
   "outputs": [],
   "source": [
    "(x_train, y_train), (x_test, y_test) = mnist.load_data()"
   ]
  },
  {
   "cell_type": "markdown",
   "metadata": {},
   "source": [
    "資料整理"
   ]
  },
  {
   "cell_type": "code",
   "execution_count": 5,
   "metadata": {
    "colab": {
     "base_uri": "https://localhost:8080/",
     "height": 34
    },
    "colab_type": "code",
    "executionInfo": {
     "elapsed": 588,
     "status": "ok",
     "timestamp": 1556225091673,
     "user": {
      "displayName": "weng keong chan",
      "photoUrl": "",
      "userId": "08429624832291330013"
     },
     "user_tz": -480
    },
    "id": "eu54zEUaPRoi",
    "outputId": "96f1174c-6e82-4495-ce9e-a95989f8d5b7"
   },
   "outputs": [],
   "source": [
    "X_train=x_train.reshape(60000,784)\n",
    "X_test=x_test.reshape(10000,784)\n",
    "Y_train = np_utils.to_categorical(y_train, 10)\n",
    "Y_test = np_utils.to_categorical(y_test, 10)"
   ]
  },
  {
   "cell_type": "code",
   "execution_count": 6,
   "metadata": {},
   "outputs": [
    {
     "data": {
      "text/plain": [
       "(60000, 10)"
      ]
     },
     "execution_count": 6,
     "metadata": {},
     "output_type": "execute_result"
    }
   ],
   "source": [
    "Y_train.shape"
   ]
  },
  {
   "cell_type": "code",
   "execution_count": 16,
   "metadata": {},
   "outputs": [
    {
     "data": {
      "text/plain": [
       "array([0., 0., 0., 0., 0., 0., 1., 0., 0., 0.], dtype=float32)"
      ]
     },
     "execution_count": 16,
     "metadata": {},
     "output_type": "execute_result"
    }
   ],
   "source": [
    "Y_test[499]"
   ]
  },
  {
   "cell_type": "markdown",
   "metadata": {},
   "source": [
    "生成神經網路"
   ]
  },
  {
   "cell_type": "code",
   "execution_count": 7,
   "metadata": {
    "colab": {},
    "colab_type": "code",
    "id": "G8gzNUKyPRop"
   },
   "outputs": [],
   "source": [
    "model = Sequential()\n",
    "\n",
    "model.add(Dense(500, input_dim=784))\n",
    "model.add(Activation('sigmoid'))\n",
    "\n",
    "model.add(Dense(300))\n",
    "model.add(Activation('sigmoid'))\n",
    "\n",
    "model.add(Dense(100))\n",
    "model.add(Activation('sigmoid'))\n",
    "\n",
    "model.add(Dense(10))\n",
    "model.add(Activation(tf.nn.softmax))\n",
    "\n",
    "\n",
    "model.compile(loss='mse', optimizer=SGD(lr=0.087), metrics=['accuracy'])"
   ]
  },
  {
   "cell_type": "code",
   "execution_count": 8,
   "metadata": {
    "scrolled": false
   },
   "outputs": [
    {
     "name": "stdout",
     "output_type": "stream",
     "text": [
      "_________________________________________________________________\n",
      "Layer (type)                 Output Shape              Param #   \n",
      "=================================================================\n",
      "dense_1 (Dense)              (None, 500)               392500    \n",
      "_________________________________________________________________\n",
      "activation_1 (Activation)    (None, 500)               0         \n",
      "_________________________________________________________________\n",
      "dense_2 (Dense)              (None, 300)               150300    \n",
      "_________________________________________________________________\n",
      "activation_2 (Activation)    (None, 300)               0         \n",
      "_________________________________________________________________\n",
      "dense_3 (Dense)              (None, 100)               30100     \n",
      "_________________________________________________________________\n",
      "activation_3 (Activation)    (None, 100)               0         \n",
      "_________________________________________________________________\n",
      "dense_4 (Dense)              (None, 10)                1010      \n",
      "_________________________________________________________________\n",
      "activation_4 (Activation)    (None, 10)                0         \n",
      "=================================================================\n",
      "Total params: 573,910\n",
      "Trainable params: 573,910\n",
      "Non-trainable params: 0\n",
      "_________________________________________________________________\n"
     ]
    }
   ],
   "source": [
    "model.summary() "
   ]
  },
  {
   "cell_type": "markdown",
   "metadata": {},
   "source": [
    "訓練神經網路"
   ]
  },
  {
   "cell_type": "code",
   "execution_count": 9,
   "metadata": {
    "scrolled": false
   },
   "outputs": [
    {
     "name": "stdout",
     "output_type": "stream",
     "text": [
      "Epoch 1/30\n",
      "60000/60000 [==============================] - 12s 202us/step - loss: 0.0901 - acc: 0.1675\n",
      "Epoch 2/30\n",
      "60000/60000 [==============================] - 9s 153us/step - loss: 0.0888 - acc: 0.1981\n",
      "Epoch 3/30\n",
      "60000/60000 [==============================] - 9s 154us/step - loss: 0.0878 - acc: 0.2236\n",
      "Epoch 4/30\n",
      "60000/60000 [==============================] - 9s 156us/step - loss: 0.0865 - acc: 0.2417\n",
      "Epoch 5/30\n",
      "60000/60000 [==============================] - 9s 153us/step - loss: 0.0846 - acc: 0.2690 0s - loss: 0.0846 - acc: 0.26\n",
      "Epoch 6/30\n",
      "60000/60000 [==============================] - 9s 153us/step - loss: 0.0817 - acc: 0.3059 1s - loss: 0\n",
      "Epoch 7/30\n",
      "60000/60000 [==============================] - 9s 149us/step - loss: 0.0782 - acc: 0.3835\n",
      "Epoch 8/30\n",
      "60000/60000 [==============================] - 9s 146us/step - loss: 0.0745 - acc: 0.4726\n",
      "Epoch 9/30\n",
      "60000/60000 [==============================] - 9s 147us/step - loss: 0.0707 - acc: 0.5419\n",
      "Epoch 10/30\n",
      "60000/60000 [==============================] - 9s 150us/step - loss: 0.0667 - acc: 0.5936\n",
      "Epoch 11/30\n",
      "60000/60000 [==============================] - 9s 151us/step - loss: 0.0622 - acc: 0.6280\n",
      "Epoch 12/30\n",
      "60000/60000 [==============================] - 9s 149us/step - loss: 0.0572 - acc: 0.6558\n",
      "Epoch 13/30\n",
      "60000/60000 [==============================] - 9s 148us/step - loss: 0.0519 - acc: 0.6949 4\n",
      "Epoch 14/30\n",
      "60000/60000 [==============================] - 9s 158us/step - loss: 0.0467 - acc: 0.7374\n",
      "Epoch 15/30\n",
      "60000/60000 [==============================] - 9s 156us/step - loss: 0.0418 - acc: 0.7747\n",
      "Epoch 16/30\n",
      "60000/60000 [==============================] - 9s 155us/step - loss: 0.0374 - acc: 0.8056\n",
      "Epoch 17/30\n",
      "60000/60000 [==============================] - 9s 156us/step - loss: 0.0335 - acc: 0.8324 0s - loss: 0.0337\n",
      "Epoch 18/30\n",
      "60000/60000 [==============================] - 10s 163us/step - loss: 0.0302 - acc: 0.8511\n",
      "Epoch 19/30\n",
      "60000/60000 [==============================] - 9s 154us/step - loss: 0.0274 - acc: 0.8656\n",
      "Epoch 20/30\n",
      "60000/60000 [==============================] - 9s 154us/step - loss: 0.0250 - acc: 0.8757 2s - l - ETA: 1s - loss:\n",
      "Epoch 21/30\n",
      "60000/60000 [==============================] - 10s 160us/step - loss: 0.0230 - acc: 0.88280s - loss: 0.0230 - acc: 0\n",
      "Epoch 22/30\n",
      "60000/60000 [==============================] - 10s 159us/step - loss: 0.0213 - acc: 0.8894\n",
      "Epoch 23/30\n",
      "60000/60000 [==============================] - 10s 163us/step - loss: 0.0200 - acc: 0.8939: 1s - loss: \n",
      "Epoch 24/30\n",
      "60000/60000 [==============================] - 10s 171us/step - loss: 0.0188 - acc: 0.8984\n",
      "Epoch 25/30\n",
      "60000/60000 [==============================] - 10s 170us/step - loss: 0.0178 - acc: 0.9023\n",
      "Epoch 26/30\n",
      "60000/60000 [==============================] - 10s 163us/step - loss: 0.0170 - acc: 0.9059\n",
      "Epoch 27/30\n",
      "60000/60000 [==============================] - 10s 168us/step - loss: 0.0162 - acc: 0.9087\n",
      "Epoch 28/30\n",
      "60000/60000 [==============================] - 10s 173us/step - loss: 0.0156 - acc: 0.9120\n",
      "Epoch 29/30\n",
      "60000/60000 [==============================] - 10s 172us/step - loss: 0.0150 - acc: 0.9146\n",
      "Epoch 30/30\n",
      "60000/60000 [==============================] - 10s 163us/step - loss: 0.0145 - acc: 0.91720s - loss: 0.014\n"
     ]
    },
    {
     "data": {
      "text/plain": [
       "<keras.callbacks.History at 0xfeb9b26fd0>"
      ]
     },
     "execution_count": 9,
     "metadata": {},
     "output_type": "execute_result"
    }
   ],
   "source": [
    "model.fit(X_train, Y_train, batch_size=100, epochs=30)"
   ]
  },
  {
   "cell_type": "markdown",
   "metadata": {},
   "source": [
    "看一下實際的成效"
   ]
  },
  {
   "cell_type": "code",
   "execution_count": 18,
   "metadata": {},
   "outputs": [
    {
     "data": {
      "text/plain": [
       "6"
      ]
     },
     "execution_count": 18,
     "metadata": {},
     "output_type": "execute_result"
    }
   ],
   "source": [
    "predict[499]"
   ]
  },
  {
   "cell_type": "code",
   "execution_count": 10,
   "metadata": {
    "scrolled": false
   },
   "outputs": [
    {
     "data": {
      "application/vnd.jupyter.widget-view+json": {
       "model_id": "d90bba304a0243d195e6e6f7baea2b5c",
       "version_major": 2,
       "version_minor": 0
      },
      "text/plain": [
       "interactive(children=(IntSlider(value=4999, description='測試編號', max=9999), Button(description='Run Interact', …"
      ]
     },
     "metadata": {},
     "output_type": "display_data"
    },
    {
     "data": {
      "text/plain": [
       "<function __main__.test(測試編號)>"
      ]
     },
     "execution_count": 10,
     "metadata": {},
     "output_type": "execute_result"
    }
   ],
   "source": [
    "predict = model.predict_classes(X_test)\n",
    "\n",
    "def test(測試編號):\n",
    "    plt.imshow(x_test[測試編號], cmap='Greys')\n",
    "    print('神經網路判斷為:', predict[測試編號])\n",
    "    \n",
    "interact_manual(test, 測試編號=(0, 9999))"
   ]
  },
  {
   "cell_type": "code",
   "execution_count": 11,
   "metadata": {
    "scrolled": true
   },
   "outputs": [
    {
     "name": "stdout",
     "output_type": "stream",
     "text": [
      "10000/10000 [==============================] - 1s 104us/step\n",
      "loss: 0.01491972165852785\n",
      "正確率 0.9095\n"
     ]
    }
   ],
   "source": [
    "score = model.evaluate(X_test, Y_test)\n",
    "print('loss:', score[0])\n",
    "print('正確率', score[1])"
   ]
  },
  {
   "cell_type": "markdown",
   "metadata": {},
   "source": [
    "把神經網路存起來"
   ]
  },
  {
   "cell_type": "code",
   "execution_count": 76,
   "metadata": {},
   "outputs": [],
   "source": [
    "model_json = model.to_json()\n",
    "open('stupid_model.json', 'w').write(model_json)\n",
    "model.save_weights('stupid_model_weights.h5')"
   ]
  }
 ],
 "metadata": {
  "accelerator": "TPU",
  "colab": {
   "name": "HW7.1.ipynb",
   "provenance": [],
   "version": "0.3.2"
  },
  "kernelspec": {
   "display_name": "Python 3",
   "language": "python",
   "name": "python3"
  },
  "language_info": {
   "codemirror_mode": {
    "name": "ipython",
    "version": 3
   },
   "file_extension": ".py",
   "mimetype": "text/x-python",
   "name": "python",
   "nbconvert_exporter": "python",
   "pygments_lexer": "ipython3",
   "version": "3.6.5"
  }
 },
 "nbformat": 4,
 "nbformat_minor": 1
}
